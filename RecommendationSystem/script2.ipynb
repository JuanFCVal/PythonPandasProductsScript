{
 "cells": [
  {
   "cell_type": "code",
   "execution_count": 1,
   "metadata": {},
   "outputs": [],
   "source": [
    "from sklearn.metrics.pairwise import cosine_similarity\n",
    "import seaborn as sb\n",
    "import numpy as np\n",
    "from matplotlib.colors import ListedColormap\n",
    "import matplotlib.patches as mpatches\n",
    "import matplotlib.pyplot as plt\n",
    "import pandas as pd\n",
    "from sklearn.model_selection import train_test_split\n",
    "from sklearn.preprocessing import MinMaxScaler\n",
    "from sklearn.neighbors import KNeighborsClassifier\n",
    "from sklearn.metrics import classification_report\n",
    "from sklearn.metrics import confusion_matrix\n",
    "import codecs"
   ]
  },
  {
   "cell_type": "code",
   "execution_count": 2,
   "metadata": {},
   "outputs": [],
   "source": [
    "import pandas as pd\n",
    "data = pd.read_json('../data.json') #Lee el json y le hace la transpuesta.\n",
    "#title ,title_orig, price, retail_price, units_sold, rating, rating_count, product_url, product_picture, product_id, theme, tags, product_color, product_variation_size_id, shipping_option_price\n",
    "data.columns = ['Brand', 'title', 'title_orig', 'price', 'retail_price', 'units_sold',\n",
    "       'rating', 'rating_count', 'product_url', 'product_picture',\n",
    "       'product_id', 'theme', 'tags', 'product_color',\n",
    "       'product_variation_size_id', 'shipping_option_price', 'idBusiness']\n"
   ]
  },
  {
   "cell_type": "code",
   "execution_count": 3,
   "metadata": {},
   "outputs": [
    {
     "name": "stdout",
     "output_type": "stream",
     "text": [
      "98\n"
     ]
    }
   ],
   "source": [
    "# filteredProducts =  (data.query(\"idBusiness == 'sewehzdubsqk'\"))\n",
    "# # result = filteredProducts.to_json(orient='index') #Turn in to json data\n",
    "# # #open text file\n",
    "# # text_file = open(\"C:/Users/Usuario/Desktop/Juan/Universidad/Tesis/firebaseDATA/data.json\", \"w\")\n",
    "# # #write string to file\n",
    "# # text_file.write(result)\n",
    "# # #close file\n",
    "# # text_file.close()\n",
    "# print(len(filteredProducts))"
   ]
  },
  {
   "cell_type": "code",
   "execution_count": 4,
   "metadata": {},
   "outputs": [],
   "source": [
    "# arrayProducts = {}\n",
    "# #title ,title_orig, price, retail_price, units_sold, rating, rating_count, product_url, product_picture, product_id, theme, tags, product_color, product_variation_size_id, shipping_option_price\n",
    "# data.columns = ['Brand', 'title', 'title_orig', 'price', 'retail_price', 'units_sold',\n",
    "#        'rating', 'rating_count', 'product_url', 'product_picture',\n",
    "#        'product_id', 'theme', 'tags', 'product_color',\n",
    "#        'product_variation_size_id', 'shipping_option_price', 'idBusiness']\n",
    "# for index, row in filteredProducts.iterrows():\n",
    "#     dictVals = {\n",
    "#         \"Brand\" : row['Brand'],\n",
    "#         \"title\" : row['title'],\n",
    "#         \"title_orig\" : row['title_orig'],\n",
    "#         \"price\": row['price'],\n",
    "#         \"retail_price\"  : row['retail_price'],   \n",
    "#         \"units_sold\": row['units_sold'],\n",
    "#         \"rating\": row['rating'],\n",
    "#         \"rating_count\": row['rating_count'],\n",
    "#         \"product_url\": row['product_url'],\n",
    "#         \"product_picture\": row['product_picture'],\n",
    "#         \"product_id\": row['product_id'],\n",
    "#         \"theme\": row['theme'],\n",
    "#         \"tags\": row['tags'],\n",
    "#         \"product_color\" : row['product_color'],\n",
    "#         \"product_variation_size_id\": row['product_variation_size_id'],\n",
    "#         \"shipping_option_price\": row['shipping_option_price'],\n",
    "#         \"idBusiness\": row['idBusiness']\n",
    "#     }\n",
    "#     arrayProducts[row['product_id']] = dictVals\n",
    "\n",
    "\n"
   ]
  },
  {
   "cell_type": "code",
   "execution_count": 5,
   "metadata": {},
   "outputs": [
    {
     "data": {
      "text/plain": [
       "{'dumijjxgdkhk': 76,\n",
       " 'bbhrwulprtjg': 75,\n",
       " 'wptzfozwceva': 66,\n",
       " 'cwcofnbctuio': 71,\n",
       " 'pehabikjnilf': 58,\n",
       " 'oxrvrhfioofw': 96,\n",
       " 'gjrwqigrslac': 70,\n",
       " 'thvcegjoprig': 70,\n",
       " 'sewehzdubsqk': 98,\n",
       " 'tiyqrehctiub': 78,\n",
       " 'jkveiysoosoa': 75,\n",
       " 'xpwowxmfgufw': 79,\n",
       " 'vedzlhcmcbiu': 79,\n",
       " 'xpfstgmwmpzh': 66,\n",
       " 'pkrczvjwcwmo': 75,\n",
       " 'wzxtmunjkiyv': 89,\n",
       " 'vktunkhdirsc': 60,\n",
       " 'kynbhlffmupr': 71,\n",
       " 'bwbivvjshioe': 87,\n",
       " 'vvwqhmphwcfu': 61}"
      ]
     },
     "execution_count": 5,
     "metadata": {},
     "output_type": "execute_result"
    }
   ],
   "source": [
    "# idBussiness = {}\n",
    "# for item in data['idBusiness']:\n",
    "#     if item in idBussiness:\n",
    "#         idBussiness[item] += 1\n",
    "#     else:\n",
    "#         idBussiness[item] = 1\n",
    "# idBussiness"
   ]
  },
  {
   "cell_type": "code",
   "execution_count": 106,
   "metadata": {},
   "outputs": [],
   "source": [
    "\n",
    "# import codecs\n",
    "# import json\n",
    "# data = json.dumps(arrayProducts)\n",
    "\n",
    "# # data = df1FinalVer.to_json(orient='index') #T\n",
    "# # # data\n",
    "# # path = \"C:/Users/Usuario/Desktop/Juan/Universidad/Tesis/firebaseDATA/data.json\"\n",
    "# file = codecs.open(\"C:/Users/Usuario/Desktop/Juan/Universidad/Tesis/firebaseDATA/data.json\", \"w\", \"utf-8\")\n",
    "# file.write(data)\n",
    "# file.close()\n",
    "# # b = arrayProducts.tolist()\n",
    "# # json.dump(b, codecs.open(path, 'w', encoding='utf-8'), \n",
    "# #           separators=(',', ':'), \n",
    "# #           sort_keys=True, \n",
    "# #           indent=4) ### this saves the array in .json format"
   ]
  },
  {
   "cell_type": "code",
   "execution_count": 7,
   "metadata": {},
   "outputs": [],
   "source": [
    "\n"
   ]
  },
  {
   "cell_type": "code",
   "execution_count": 8,
   "metadata": {},
   "outputs": [],
   "source": []
  },
  {
   "cell_type": "code",
   "execution_count": 6,
   "metadata": {},
   "outputs": [
    {
     "data": {
      "text/plain": [
       "0          0\n",
       "1          1\n",
       "2          2\n",
       "3          3\n",
       "4          4\n",
       "        ... \n",
       "1495    1495\n",
       "1496    1496\n",
       "1497    1497\n",
       "1498    1498\n",
       "1499    1499\n",
       "Name: index, Length: 1500, dtype: int64"
      ]
     },
     "execution_count": 6,
     "metadata": {},
     "output_type": "execute_result"
    }
   ],
   "source": [
    "numbers = []\n",
    "def setIndexToRow():\n",
    "    for i in range(len(data)):\n",
    "        numbers.append(i)\n",
    "    data['index'] = numbers\n",
    "setIndexToRow()\n",
    "data['index']\n"
   ]
  },
  {
   "cell_type": "code",
   "execution_count": null,
   "metadata": {},
   "outputs": [],
   "source": []
  },
  {
   "cell_type": "code",
   "execution_count": 7,
   "metadata": {},
   "outputs": [
    {
     "name": "stderr",
     "output_type": "stream",
     "text": [
      "C:\\Users\\Usuario\\AppData\\Local\\Packages\\PythonSoftwareFoundation.Python.3.9_qbz5n2kfra8p0\\LocalCache\\local-packages\\Python39\\site-packages\\seaborn\\categorical.py:3717: UserWarning: The `factorplot` function has been renamed to `catplot`. The original name will be removed in a future release. Please update your code. Note that the default `kind` in `factorplot` (`'point'`) has changed `'strip'` in `catplot`.\n",
      "  warnings.warn(msg)\n",
      "C:\\Users\\Usuario\\AppData\\Local\\Packages\\PythonSoftwareFoundation.Python.3.9_qbz5n2kfra8p0\\LocalCache\\local-packages\\Python39\\site-packages\\seaborn\\_decorators.py:36: FutureWarning: Pass the following variable as a keyword arg: x. From version 0.12, the only valid positional argument will be `data`, and passing other arguments without an explicit keyword will result in an error or misinterpretation.\n",
      "  warnings.warn(\n"
     ]
    },
    {
     "data": {
      "text/plain": [
       "<seaborn.axisgrid.FacetGrid at 0x18bfbf8bac0>"
      ]
     },
     "execution_count": 7,
     "metadata": {},
     "output_type": "execute_result"
    },
    {
     "data": {
      "image/png": "[encoded data removed]",
      "text/plain": [
       "<Figure size 1080x360 with 1 Axes>"
      ]
     },
     "metadata": {
      "needs_background": "light"
     },
     "output_type": "display_data"
    }
   ],
   "source": [
    "sb.factorplot('idBusiness',data=data,kind=\"count\", aspect=3) #Grafica de cantidad de productos por cada tienda."
   ]
  },
  {
   "cell_type": "code",
   "execution_count": 7,
   "metadata": {},
   "outputs": [
    {
     "data": {
      "text/plain": [
       "Index(['Brand', 'title', 'title_orig', 'price', 'retail_price', 'units_sold',\n",
       "       'rating', 'rating_count', 'product_url', 'product_picture',\n",
       "       'product_id', 'theme', 'tags', 'product_color',\n",
       "       'product_variation_size_id', 'shipping_option_price', 'idBusiness',\n",
       "       'index'],\n",
       "      dtype='object')"
      ]
     },
     "execution_count": 7,
     "metadata": {},
     "output_type": "execute_result"
    }
   ],
   "source": [
    "data.columns"
   ]
  },
  {
   "cell_type": "markdown",
   "metadata": {},
   "source": [
    "Workign with brands"
   ]
  },
  {
   "cell_type": "code",
   "execution_count": 8,
   "metadata": {},
   "outputs": [
    {
     "name": "stdout",
     "output_type": "stream",
     "text": [
      "86\n"
     ]
    }
   ],
   "source": [
    "brands = {}\n",
    "#Obtener todas las marcas disponibles\n",
    "for index, row in data.iterrows():\n",
    "    if row['Brand'] in brands:\n",
    "        pass\n",
    "    else:\n",
    "        brands[row['Brand']] = row[\"Brand\"]\n",
    "print(len(brands.keys()))"
   ]
  },
  {
   "cell_type": "code",
   "execution_count": 9,
   "metadata": {},
   "outputs": [
    {
     "name": "stdout",
     "output_type": "stream",
     "text": [
      "86\n"
     ]
    }
   ],
   "source": [
    "arrayBrands = brands.keys() \n",
    "print(len(arrayBrands))"
   ]
  },
  {
   "cell_type": "code",
   "execution_count": 10,
   "metadata": {},
   "outputs": [],
   "source": [
    "def binaryList(brandInput):\n",
    "    arr = []\n",
    "    for brand in arrayBrands:\n",
    "        if(brandInput == brand):\n",
    "            arr.append(1)\n",
    "        else:\n",
    "            arr.append(0)\n",
    "    return arr\n"
   ]
  },
  {
   "cell_type": "markdown",
   "metadata": {},
   "source": [
    "Working with colors"
   ]
  },
  {
   "cell_type": "code",
   "execution_count": 11,
   "metadata": {},
   "outputs": [
    {
     "data": {
      "text/plain": [
       "0    [1, 0, 0, 0, 0, 0, 0, 0, 0, 0, 0, 0, 0, 0, 0, ...\n",
       "1    [1, 0, 0, 0, 0, 0, 0, 0, 0, 0, 0, 0, 0, 0, 0, ...\n",
       "2    [0, 1, 0, 0, 0, 0, 0, 0, 0, 0, 0, 0, 0, 0, 0, ...\n",
       "3    [0, 0, 1, 0, 0, 0, 0, 0, 0, 0, 0, 0, 0, 0, 0, ...\n",
       "4    [0, 0, 0, 1, 0, 0, 0, 0, 0, 0, 0, 0, 0, 0, 0, ...\n",
       "Name: brand_bin, dtype: object"
      ]
     },
     "execution_count": 11,
     "metadata": {},
     "output_type": "execute_result"
    }
   ],
   "source": [
    "data['brand_bin'] = data['Brand'].apply(lambda x: binaryList(x))\n",
    "data['brand_bin'].head()"
   ]
  },
  {
   "cell_type": "code",
   "execution_count": 12,
   "metadata": {},
   "outputs": [],
   "source": [
    "colors = {}\n",
    "#Obtener todas las marcas disponibles\n",
    "for index, row in data.iterrows():\n",
    "    if row['product_color'] in colors:\n",
    "        colors[row['product_color']] =colors[row['product_color']] + 1\n",
    "    else:\n",
    "        colors[row['product_color']] = 1\n",
    "arrayColors = colors.keys()\n"
   ]
  },
  {
   "cell_type": "code",
   "execution_count": 13,
   "metadata": {},
   "outputs": [
    {
     "name": "stdout",
     "output_type": "stream",
     "text": [
      "101\n"
     ]
    }
   ],
   "source": [
    "print(len(arrayColors))"
   ]
  },
  {
   "cell_type": "code",
   "execution_count": 14,
   "metadata": {},
   "outputs": [],
   "source": [
    "def binaryListColor(colorInput):\n",
    "    arr = []\n",
    "    for color in arrayColors:\n",
    "        if(colorInput == color):\n",
    "            arr.append(1)\n",
    "        else:\n",
    "            arr.append(0)\n",
    "    return arr"
   ]
  },
  {
   "cell_type": "code",
   "execution_count": 15,
   "metadata": {},
   "outputs": [
    {
     "data": {
      "text/plain": [
       "0    [1, 0, 0, 0, 0, 0, 0, 0, 0, 0, 0, 0, 0, 0, 0, ...\n",
       "1    [0, 1, 0, 0, 0, 0, 0, 0, 0, 0, 0, 0, 0, 0, 0, ...\n",
       "2    [0, 0, 1, 0, 0, 0, 0, 0, 0, 0, 0, 0, 0, 0, 0, ...\n",
       "3    [0, 0, 0, 1, 0, 0, 0, 0, 0, 0, 0, 0, 0, 0, 0, ...\n",
       "4    [0, 0, 0, 0, 1, 0, 0, 0, 0, 0, 0, 0, 0, 0, 0, ...\n",
       "Name: color_bin, dtype: object"
      ]
     },
     "execution_count": 15,
     "metadata": {},
     "output_type": "execute_result"
    }
   ],
   "source": [
    "data['color_bin'] = data['product_color'].apply(lambda x: binaryListColor(x))\n",
    "data['color_bin'].head()"
   ]
  },
  {
   "cell_type": "markdown",
   "metadata": {},
   "source": [
    "Working with tags\n"
   ]
  },
  {
   "cell_type": "code",
   "execution_count": 16,
   "metadata": {},
   "outputs": [
    {
     "name": "stderr",
     "output_type": "stream",
     "text": [
      "[nltk_data] Downloading package stopwords to\n",
      "[nltk_data]     C:\\Users\\Usuario\\AppData\\Roaming\\nltk_data...\n",
      "[nltk_data]   Package stopwords is already up-to-date!\n"
     ]
    },
    {
     "data": {
      "text/plain": [
       "True"
      ]
     },
     "execution_count": 16,
     "metadata": {},
     "output_type": "execute_result"
    }
   ],
   "source": [
    "from wordcloud import WordCloud, STOPWORDS\n",
    "import nltk\n",
    "from nltk.corpus import stopwords\n",
    "import nltk\n",
    "nltk.download('stopwords')"
   ]
  },
  {
   "cell_type": "code",
   "execution_count": 17,
   "metadata": {},
   "outputs": [
    {
     "data": {
      "text/plain": [
       "0       Summer,Fashion,womenunderwearsuit,printedpajam...\n",
       "1       Mini,womens dresses,Summer,Patchwork,fashion d...\n",
       "2       Summer,cardigan,women beachwear,chiffon,Sexy w...\n",
       "3       Summer,Shorts,Cotton,Cotton T Shirt,Sleeve,pri...\n",
       "4       Summer,Plus Size,Lace,Casual pants,Bottom,pant...\n",
       "                              ...                        \n",
       "1495    Summer,Plus Size,Necks,chiffon,chiffon dress,D...\n",
       "1496    Summer,Plus Size,Fashion,Sleeve,Tops,Loose,sho...\n",
       "1497    Sterling,Summer,Fashion,Rose Gold Ring,gold,Si...\n",
       "1498    Mini,Strapless Dress,Fashion,Summer,Tube top,T...\n",
       "1499    Summer,Fashion,Lace,pants,fashion pants,summer...\n",
       "Name: tags, Length: 1500, dtype: object"
      ]
     },
     "execution_count": 17,
     "metadata": {},
     "output_type": "execute_result"
    }
   ],
   "source": [
    "wordsSeries = data['tags']\n",
    "wordsSeries"
   ]
  },
  {
   "cell_type": "code",
   "execution_count": 18,
   "metadata": {},
   "outputs": [],
   "source": [
    "def splitElement(element):\n",
    "    arr = element.split(\",\")\n",
    "    return arr"
   ]
  },
  {
   "cell_type": "code",
   "execution_count": 19,
   "metadata": {},
   "outputs": [],
   "source": [
    "stop_words = set(stopwords.words('english'))\n",
    "stop_words.update(',',';','!','?','.','(',')','$','#','+',':','...',' ','')\n",
    "#words = data['tags'].dropna().apply(nltk.word_tokenize)\n",
    "wordsByRow = data['tags'].dropna().apply(lambda x: splitElement(x))\n",
    "word=[]\n",
    "# for i in words:\n",
    "# word.extend(i)\n",
    "# word=pd.Series(word)\n",
    "# word=([i for i in word.str.lower() if i not in stop_words])\n",
    "# wc = WordCloud(background_color=\"black\", max_words=2000, stopwords=STOPWORDS, max_font_size= 60,width=1000,height=1000)"
   ]
  },
  {
   "cell_type": "code",
   "execution_count": 20,
   "metadata": {},
   "outputs": [],
   "source": [
    "allTags = {}\n",
    "for  arrayWords in wordsByRow:\n",
    "    for word in arrayWords:\n",
    "        if word in allTags:\n",
    "            allTags[word] = allTags[word] + 1\n",
    "        else:\n",
    "            allTags[word] = 1\n",
    "allTagsArray = allTags.keys()\n",
    "\n"
   ]
  },
  {
   "cell_type": "code",
   "execution_count": 21,
   "metadata": {},
   "outputs": [
    {
     "name": "stdout",
     "output_type": "stream",
     "text": [
      "2555\n"
     ]
    }
   ],
   "source": [
    "allTags = []\n",
    "for tag in allTagsArray:\n",
    "    allTags.append(tag)\n",
    "print(len(allTags))"
   ]
  },
  {
   "cell_type": "code",
   "execution_count": 37,
   "metadata": {},
   "outputs": [],
   "source": [
    "totalArr = []\n",
    "for row in wordsByRow:\n",
    "    arr = np.empty(len(allTagsArray))\n",
    "    arr.fill(0)\n",
    "    for word in row:\n",
    "        for tagArrayWord in allTags:\n",
    "            if (word == tagArrayWord):\n",
    "                arr[allTags.index(tagArrayWord)] = 1\n",
    "    totalArr.append(arr)"
   ]
  },
  {
   "cell_type": "code",
   "execution_count": 23,
   "metadata": {},
   "outputs": [],
   "source": [
    "data['bin_keywords'] = totalArr"
   ]
  },
  {
   "cell_type": "code",
   "execution_count": 24,
   "metadata": {},
   "outputs": [
    {
     "data": {
      "text/plain": [
       "0    5e9ae51d43d6a96e303acdb0\n",
       "1    58940d436a0d3d5da4e95a38\n",
       "2    5ea10e2c617580260d55310a\n",
       "3    5cedf17ad1d44c52c59e4aca\n",
       "4    5ebf5819ebac372b070b0e70\n",
       "Name: product_id, dtype: object"
      ]
     },
     "execution_count": 24,
     "metadata": {},
     "output_type": "execute_result"
    }
   ],
   "source": [
    "data['product_id'].head()"
   ]
  },
  {
   "cell_type": "code",
   "execution_count": 25,
   "metadata": {},
   "outputs": [],
   "source": [
    "from scipy import spatial\n",
    "def Similarity(title1, title2):\n",
    "    a = data.iloc[title1]\n",
    "    b = data.iloc[title2]\n",
    "    brandsA = a['brand_bin']\n",
    "    brandsB = b['brand_bin']\n",
    "    brandDistance = spatial.distance.cosine(brandsA, brandsB)\n",
    "    \n",
    "    colorA = a['color_bin']\n",
    "    colorB = b['color_bin']\n",
    "    colorDistance = spatial.distance.cosine(colorA, colorB)\n",
    "    \n",
    "    keyWordsA = a['bin_keywords']\n",
    "    keyWordsB = b['bin_keywords']\n",
    "\n",
    "    keyWordsDistance = spatial.distance.cosine(keyWordsA, keyWordsB)\n",
    "\n",
    "    return brandDistance  + colorDistance + keyWordsDistance\n",
    "\n"
   ]
  },
  {
   "cell_type": "code",
   "execution_count": 35,
   "metadata": {},
   "outputs": [],
   "source": [
    "import operator\n",
    "def predict_score():\n",
    "    # name = input('Enter a product title: ')\n",
    "    #name = \"Women Fashion Loose Lace Blouse Blouse V Neck Bat Sleeves T Shirt Hollow Out Tops Plus Grande Taille XS-8XL\"\n",
    "    #print(name)\n",
    "    i = data[data['product_id'] == \"5cedf17ad1d44c52c59e4aca\"]\n",
    "    print(len(i))\n",
    "    if((len(i)) > 1):\n",
    "        index = (i.iloc[0]['index'])\n",
    "    else:\n",
    "        index = (i['index'])\n",
    "\n",
    "    new_product = data.iloc[int(index)].to_frame().T\n",
    "    \n",
    "#i = data[data['product_id'] == \"58940d436a0d3d5da4e95a38\"]\n",
    "    #new_product = data[data['title'].str.contains(name)].iloc[0].to_frame().T\n",
    "    print('Selected product: ',new_product.title.values[0])\n",
    "\n",
    "    def getNeighbors(baseProduct, K):\n",
    "        print(\"HOLA\")\n",
    "        distances = []\n",
    "        for index, product in data.iterrows():\n",
    "            if product['index'] != baseProduct['index'].values[0]:\n",
    "                dist = Similarity(baseProduct['index'].values[0], product['index'])\n",
    "                distances.append((product['index'], dist))\n",
    "        distances.sort(key=operator.itemgetter(1))\n",
    "        neighbors = []\n",
    "        for x in range(K):\n",
    "            neighbors.append(distances[x])\n",
    "        return neighbors\n",
    "\n",
    "    K = 10\n",
    "    avgRating = 0\n",
    "    neighbors = getNeighbors(new_product, K)\n",
    "\n",
    "    print('\\nRecommended products: \\n')\n",
    "    for neighbor in neighbors:\n",
    "        print(neighbor)\n",
    "        #print(data.iloc[neighbor[0]]['product_picture'])\n",
    "        # avgRating = avgRating+ data.iloc[neighbor[0]][2]\n",
    "        # print( data.iloc[neighbor[0]][0]+\" | Genres: \"+str(data.iloc[neighbor[0]][1]).strip('[]').replace(' ','')+\" | Rating: \"+str(data.iloc[neighbor[0]][2]))\n",
    "    \n",
    "    # print('\\n')\n",
    "    # avgRating = avgRating/K \n",
    "    # print('The predicted rating for %s is: %f' %(new_product['title'].values[0],avgRating))\n",
    "    # print('The actual rating for %s is %f' %(new_product['title'].values[0],new_product['vote_average']))"
   ]
  },
  {
   "cell_type": "code",
   "execution_count": null,
   "metadata": {},
   "outputs": [],
   "source": []
  },
  {
   "cell_type": "code",
   "execution_count": 36,
   "metadata": {},
   "outputs": [
    {
     "name": "stdout",
     "output_type": "stream",
     "text": [
      "2\n",
      "Selected product:  Hot Summer Cool T-shirt pour les femmes Mode Tops Abeille Lettres imprimées Manches courtes O Neck Coton T-shirts Tops Tee Vêtements\n",
      "HOLA\n",
      "\n",
      "Recommended products: \n",
      "\n",
      "(1271, 0.3675444679663241)\n",
      "(470, 0.49604736932103044)\n",
      "(8, 0.6220355269907728)\n",
      "(837, 0.6220355269907728)\n",
      "(345, 0.6399588500884521)\n",
      "(1392, 0.6399588500884521)\n",
      "(700, 0.6731397747696933)\n",
      "(1224, 0.676424885535283)\n",
      "(1202, 0.683772233983162)\n",
      "(1419, 0.683772233983162)\n"
     ]
    }
   ],
   "source": [
    "predict_score()\n",
    "# data.iloc[6]"
   ]
  },
  {
   "cell_type": "code",
   "execution_count": null,
   "metadata": {},
   "outputs": [],
   "source": []
  },
  {
   "cell_type": "code",
   "execution_count": null,
   "metadata": {},
   "outputs": [],
   "source": [
    "    "
   ]
  },
  {
   "cell_type": "code",
   "execution_count": null,
   "metadata": {},
   "outputs": [],
   "source": []
  }
 ],
 "metadata": {
  "kernelspec": {
   "display_name": "Python 3.9.13 64-bit (windows store)",
   "language": "python",
   "name": "python3"
  },
  "language_info": {
   "codemirror_mode": {
    "name": "ipython",
    "version": 3
   },
   "file_extension": ".py",
   "mimetype": "text/x-python",
   "name": "python",
   "nbconvert_exporter": "python",
   "pygments_lexer": "ipython3",
   "version": "3.9.13"
  },
  "orig_nbformat": 4,
  "vscode": {
   "interpreter": {
    "hash": "8344beb2e3695cc865366b87c9e795fe295d5e1a75013da0c7029a373688a8d6"
   }
  }
 },
 "nbformat": 4,
 "nbformat_minor": 2
}
